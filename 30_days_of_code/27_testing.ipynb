{
 "cells": [
  {
   "cell_type": "markdown",
   "metadata": {},
   "source": [
    "![hackerank_logo](https://hrcdn.net/hackerrank/assets/brand/h_mark_sm-05bceb881aa02b72d688d21db01df5d8.png)"
   ]
  },
  {
   "cell_type": "markdown",
   "metadata": {},
   "source": [
    "#### HackerRank 30 Days of Code\n",
    "# Day 27: Testing"
   ]
  },
  {
   "cell_type": "markdown",
   "metadata": {},
   "source": [
    "### Objective \n",
    "This [challenge](https://www.hackerrank.com/challenges/30-testing \"Day 27: Testing\") is very different from the others we've completed because it requires you to *generate a valid test case* for a problem *instead* of solving the problem. There is no input to read, you simply have to generate and print test values for the problem that satisfy both the problem's *Input Format* and the criteria laid out in the *Task* section. Check out the [Tutorial](https://www.hackerrank.com/challenges/30-testing/tutorial \"\"Day 27: Testing tutorial\") for an instructional video on testing!"
   ]
  },
  {
   "cell_type": "markdown",
   "metadata": {},
   "source": [
    "Consider the following problem (but do not solve it):\n",
    "\n",
    "><h4 style=\"font-family:serif;\">Problem Statement</h4>\n",
    "<p style=\"font-family:serif;\">\n",
    "A Discrete Mathematics professor has a class of *N* students. Frustrated with their lack of discipline, the professor decides to cancel class if fewer than *k* students are present when class starts. Given the arrival time of each student, determine if the class is canceled.</p>\n",
    "\n",
    "><h4 style=\"font-family:serif;\">Input Format</h4>\n",
    "<p style=\"font-family:serif;\">The first line of input contains *t*, the number of lectures.\n",
    "The information for each lecture spans two lines. The first line has two space-separated integers, *N* (the number of students in the class) and *k* (the cancelation threshold). The second line contains *n* space-separated integers describing the array of students' arrival times *A* = (*a*<sub>0</sub>, *a*<sub>1</sub>, *a*<sub>2</sub>, ... *a*<sub>*N*-1</sub>).</p>\n",
    "\n",
    "><p style=\"font-family:serif;\">**Note**: Non-positive arrival times *a*<sub>i</sub> &le; 0 indicate the student arrived early or on time; positive arrival times *a*<sub>i</sub> &gt; 0 indicate the student arrived  minutes late. If a student arrives exactly on time *a*<sub>i</sub> = 0 the student is considered to have entered before the class started.</p>\n",
    "\n",
    "><h4 style=\"font-family:serif;\">Output Format</h4>\n",
    "<p style=\"font-family:serif\">For each test case, print the word `YES` if the class is canceled or `NO` if it is not.</p>\n",
    "\n",
    "><h4 style=\"font-family:serif;\">Example</h4>\n",
    "<p style=\"font-family:serif\">\n",
    "When properly solved, this input:</p>  \n",
    ">\n",
    ">>`2\n",
    "4 3\n",
    "-1 -3 4 2\n",
    "4 2\n",
    "0 -1 2 1`  \n",
    "\n",
    "><p style=\"font-family:serif\">Produces this output:</p>\n",
    ">\n",
    ">>`YES  \n",
    "NO`  \n",
    "\n",
    "><p style=\"font-family:serif\">For the first test case, *k* = 3. The professor wants at least 3 students in attendance, but only 2 arrive on time (-1 and -3). Thus, the class is canceled.</p>\n",
    "\n",
    "><p style=\"font-family:serif;\">For the second test case, *k* = 2. The professor wants at least 2 students in attendance, and 2  do arrive on time (0 and -1). Thus, the class is not canceled.</p>"
   ]
  },
  {
   "cell_type": "markdown",
   "metadata": {},
   "source": [
    "### Task \n",
    "Create and print a test case for the problem above that meet the following criteria.\n",
    "\n",
    "<ul>\n",
    "<li><span style=\"font-family:serif;\">*t*</span> &le; 5</li>\n",
    "<li>1 &le; <span style=\"font-family:serif;\">*n*</span> &le; 200</li>\n",
    "<li>1 &le; <span style=\"font-family:serif;\">*k*</span> &le; <span style=\"font-family:serif;\">*n*</span></li>\n",
    "<li>-10<sup>3</sup> &le; <span style=\"font-family:serif;\">*a*<sub>i</sub></span> &le; 10<sup>3</sup> where <span style=\"font-family:serif;\">*i*</span> &isin; [1, <span style=\"font-family:serif;\">*n*</span>]</li>\n",
    "<li>The value of <span style=\"font-family:serif;\">*n*</span>  must be *distinct* across all the test cases.</li>\n",
    "<li>Array <span style=\"font-family:serif;\">*A*</span> must have at least 1 zero, 1 positive integer, and 1 negative integer.</li>\n",
    "</ul>"
   ]
  },
  {
   "cell_type": "markdown",
   "metadata": {},
   "source": [
    "### Scoring\n",
    "If you submit <span style=\"font-family:serif;\">*x*</span> correct test cases, you will earn 20<span style=\"font-family:serif;\">*x*</span> % of the maximum score. You must submit 5 test cases to earn the maximum possible score."
   ]
  },
  {
   "cell_type": "markdown",
   "metadata": {
    "collapsed": true
   },
   "source": [
    "### Input Format\n",
    "You are not responsible for reading anything from stdin."
   ]
  },
  {
   "cell_type": "markdown",
   "metadata": {},
   "source": [
    "### Output Format\n",
    "Print 11 lines of output that can be read by the Professor challenge as valid input. Your test case must result in the following output when fed as input to the Professor challenge's solution:  \n",
    "  \n",
    "`YES  \n",
    "NO  \n",
    "YES  \n",
    "NO  \n",
    "YES`"
   ]
  },
  {
   "cell_type": "markdown",
   "metadata": {},
   "source": [
    "### Explanation\n",
    "Your code must print lines of output that follow the *Input Format* in the Professor challenge above. For example, this partial solution to this challenge:  \n",
    "  \n",
    "`print('2')  \n",
    "print('4 3')  |\n",
    "print('-1 -3 4 2')  \n",
    "print('5 2')  \n",
    "print('0 -1 2 1 4')`  \n",
    "\n",
    "prints the following output that can be used as valid input for the Professor challenge:  \n",
    "  \n",
    "`2  \n",
    "4 3  \n",
    "-1 -3 4 2  \n",
    "5 2  \n",
    "0 -1 2 1 4`  \n",
    "\n",
    "When read by a valid solution to the Professor challenge, it produces the following output:  \n",
    "  \n",
    "`YES  \n",
    "NO`  \n",
    "\n",
    "You must do something similar to this, except that the test case you develop must meet the constraints set in the *Task* section above."
   ]
  },
  {
   "cell_type": "markdown",
   "metadata": {
    "collapsed": true
   },
   "source": [
    "### Solution"
   ]
  },
  {
   "cell_type": "code",
   "execution_count": 5,
   "metadata": {
    "collapsed": false
   },
   "outputs": [
    {
     "name": "stdout",
     "output_type": "stream",
     "text": [
      "5\n",
      "4 3\n",
      "-2 0 4 2\n",
      "5 2\n",
      "0 -1 2 1 4\n",
      "6 5\n",
      "0 -1 -2 -1 4 126\n",
      "7 6\n",
      "0 -1 -2 -1 -4 0 967\n",
      "8 3\n",
      "0 -1 12 11 433 199 29 35\n"
     ]
    }
   ],
   "source": [
    "#!/bin/python\n",
    "\n",
    "print('5')  \n",
    "print('4 3')  \n",
    "print('-2 0 4 2')  \n",
    "print('5 2')  \n",
    "print('0 -1 2 1 4')\n",
    "print('6 5')  \n",
    "print('0 -1 -2 -1 4 126')\n",
    "print('7 6')  \n",
    "print('0 -1 -2 -1 -4 0 967')\n",
    "print('8 3')  \n",
    "print('0 -1 12 11 433 199 29 35')"
   ]
  }
 ],
 "metadata": {
  "anaconda-cloud": {},
  "kernelspec": {
   "display_name": "Python [conda root]",
   "language": "python",
   "name": "conda-root-py"
  },
  "language_info": {
   "codemirror_mode": {
    "name": "ipython",
    "version": 2
   },
   "file_extension": ".py",
   "mimetype": "text/x-python",
   "name": "python",
   "nbconvert_exporter": "python",
   "pygments_lexer": "ipython2",
   "version": "2.7.12"
  }
 },
 "nbformat": 4,
 "nbformat_minor": 1
}
