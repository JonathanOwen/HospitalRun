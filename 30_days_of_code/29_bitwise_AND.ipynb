{
 "cells": [
  {
   "cell_type": "markdown",
   "metadata": {},
   "source": [
    "![hackerank_logo](https://hrcdn.net/hackerrank/assets/brand/h_mark_sm-05bceb881aa02b72d688d21db01df5d8.png)"
   ]
  },
  {
   "cell_type": "markdown",
   "metadata": {},
   "source": [
    "#### HackerRank 30 Days of Code\n",
    "# Day 29: Bitwise AND"
   ]
  },
  {
   "cell_type": "markdown",
   "metadata": {},
   "source": [
    "### Objective \n",
    "Welcome to the last day! Today's [challenge](https://www.hackerrank.com/challenges/30-bitwise-and \"Day 29: Bitwise AND\") introduces bitwise operations. Check out the [Tutorial](https://www.hackerrank.com/challenges/30-bitwise-and/tutorial \"Day 29: Bitwise AND tutorial\") for learning materials and an instructional video!"
   ]
  },
  {
   "cell_type": "markdown",
   "metadata": {},
   "source": [
    "### Task \n",
    "Given set <span style=\"font-family:serif;\">*S*</span> = {1, 2, 3, ..., <span style=\"font-family:serif;\">*N*</span>}. Find two integers <span style=\"font-family:serif;\">*A*</span> and <span style=\"font-family:serif;\">*B*</span> where <span style=\"font-family:serif;\">*A*</span> &lt; <span style=\"font-family:serif;\">*B*</span>, from set <span style=\"font-family:serif;\">*S*</span>  such that the value of <span style=\"font-family:serif;\">*A*&*B*</span> is the maximum possible and also *less than a given integer* <span style=\"font-family:serif;\">*K*</span> . In this case, <span style=\"font-family:serif;\">&</span> represents the *bitwise* AND operator."
   ]
  },
  {
   "cell_type": "markdown",
   "metadata": {
    "collapsed": true
   },
   "source": [
    "### Input Format\n",
    "The first line contains an integer <span style=\"font-family:serif;\">*T*</span>, the number of test cases. \n",
    "Each of the <span style=\"font-family:serif;\">*T*</span> subsequent lines defines a test case as 2 space-separated integers, <span style=\"font-family:serif;\">*N*</span>  and <span style=\"font-family:serif;\">*K*</span>, respectively."
   ]
  },
  {
   "cell_type": "markdown",
   "metadata": {},
   "source": [
    "### Constraints\n",
    "<ul>\n",
    "<li>1 &le; <span style=\"font-family:serif;\">*T*</span> &le; 10<sup>3</sup></li>\n",
    "<li>2 &le; <span style=\"font-family:serif;\">*N*</span> &le; 10<sup>3</sup></li></li>\n",
    "<li>2 &le; <span style=\"font-family:serif;\">*K*</span> &le; <span style=\"font-family:serif;\">*N*</span></li>\n",
    "</ul>"
   ]
  },
  {
   "cell_type": "markdown",
   "metadata": {},
   "source": [
    "### Output Format\n",
    "For each test case, print the maximum possible value of <span style=\"font-family:serif;\">*A*&*B*</span> on a new line."
   ]
  },
  {
   "cell_type": "markdown",
   "metadata": {},
   "source": [
    "### Sample Input\n",
    "`3  \n",
    "5 2  \n",
    "8 5  \n",
    "2 2`"
   ]
  },
  {
   "cell_type": "markdown",
   "metadata": {},
   "source": [
    "### Sample Output\n",
    "`1  \n",
    "4  \n",
    "0`"
   ]
  },
  {
   "cell_type": "markdown",
   "metadata": {},
   "source": [
    "### Explanation\n",
    "**case 1**  \n",
    "<span style=\"font-family:serif;\">*N*</span> = 5, <span style=\"font-family:serif;\">*K*</span> = 2, <span style=\"font-family:serif;\">*S*</span> = {1, 2, 3, 4, 5}  \n",
    "\n",
    "All possible values of <span style=\"font-family:serif;\">*A*&*B*</span> are  \n",
    "<span style=\"font-family:serif;\">*A*</span> = 1,  <span style=\"font-family:serif;\">*B*</span> = 2, <span style=\"font-family:serif;\">*A*&*B*</span> = 0  \n",
    "<span style=\"font-family:serif;\">*A*</span> = 1, <span style=\"font-family:serif;\">*B*</span> = 3, <span style=\"font-family:serif;\">*A*&*B*</span> = 1  \n",
    "<span style=\"font-family:serif;\">*A*</span> = 1, <span style=\"font-family:serif;\">*B*</span> = 4, <span style=\"font-family:serif;\">*A*&*B*</span> = 0  \n",
    "<span style=\"font-family:serif;\">*A*</span> = 1, <span style=\"font-family:serif;\">*B*</span> = 5, <span style=\"font-family:serif;\">*A*&*B*</span> = 1  \n",
    "<span style=\"font-family:serif;\">*A*</span> = 2, <span style=\"font-family:serif;\">*B*</span> = 3, <span style=\"font-family:serif;\">*A*&*B*</span> = 2  \n",
    "<span style=\"font-family:serif;\">*A*</span> = 2, <span style=\"font-family:serif;\">*B*</span> = 4, <span style=\"font-family:serif;\">*A*&*B*</span> = 0  \n",
    "<span style=\"font-family:serif;\">*A*</span> = 2, <span style=\"font-family:serif;\">*B*</span> = 5, <span style=\"font-family:serif;\">*A*&*B*</span> = 0  \n",
    "<span style=\"font-family:serif;\">*A*</span> = 3, <span style=\"font-family:serif;\">*B*</span> = 4, <span style=\"font-family:serif;\">*A*&*B*</span> = 0  \n",
    "<span style=\"font-family:serif;\">*A*</span> = 3, <span style=\"font-family:serif;\">*B*</span> = 5, <span style=\"font-family:serif;\">*A*&*B*</span> = 1  \n",
    "<span style=\"font-family:serif;\">*A*</span> = 4, <span style=\"font-family:serif;\">*B*</span> = 5, <span style=\"font-family:serif;\">*A*&*B*</span> = 4  \n",
    "  \n",
    "The maximum possible value of <span style=\"font-family:serif;\">*A*&*B*</span> &lt; <span style=\"font-family:serif;\">*K*</span> (=2) is 1. "
   ]
  },
  {
   "cell_type": "markdown",
   "metadata": {
    "collapsed": true
   },
   "source": [
    "### Solution"
   ]
  },
  {
   "cell_type": "code",
   "execution_count": 7,
   "metadata": {
    "collapsed": false
   },
   "outputs": [
    {
     "name": "stdout",
     "output_type": "stream",
     "text": [
      "3\n",
      "100 100\n",
      "98\n",
      "100 99\n",
      "98\n",
      "100 96\n",
      "94\n"
     ]
    }
   ],
   "source": [
    "#!/bin/python\n",
    "\n",
    "import sys\n",
    "\n",
    "\n",
    "t = int(raw_input().strip())\n",
    "for a0 in xrange(t):\n",
    "    n,k = raw_input().strip().split(' ')\n",
    "    n,k = [int(n),int(k)]\n",
    "    max_and = 0\n",
    "    for a in range(n-1, 0, -1):\n",
    "        if max_and == (k-1):\n",
    "                    break\n",
    "        b = n\n",
    "        while ((b > a) & (max_and < k)):\n",
    "            if ((a&b > max_and) & (a&b < k)):\n",
    "                max_and = a&b\n",
    "                if max_and == (k-1):\n",
    "                    break\n",
    "            b -= 1\n",
    "    print max_and"
   ]
  },
  {
   "cell_type": "markdown",
   "metadata": {},
   "source": [
    "### Discussion"
   ]
  },
  {
   "cell_type": "markdown",
   "metadata": {},
   "source": [
    "Calculation time is important for passing this challenge. Simple iteration over both <span style=\"font-family:serif;\">*A*</span> and <span style=\"font-family:serif;\">*B*</span> would result in execution time scaling as <span style=\"font-family:serif;\">*O*</span>(<span style=\"font-family:serif;\">*n*</span><sup>2</sup>).  \n",
    "  \n",
    "The following code is theoretically a solution to the challenge. The output is correct for the three cases in the sample input. It even has checks to break the loops once an instance of <span style=\"font-family:serif;\">*A*&*B*</span> equal to the maximum possible value (<span style=\"font-family:serif;\">*K*</span>-1) is found. Despite this the code still fails due timeouts on several evaluation cases when submitted."
   ]
  },
  {
   "cell_type": "code",
   "execution_count": 6,
   "metadata": {
    "collapsed": false
   },
   "outputs": [
    {
     "name": "stdout",
     "output_type": "stream",
     "text": [
      "3\n",
      "5 2\n",
      "1\n",
      "8 5\n",
      "4\n",
      "2 2\n",
      "0\n"
     ]
    }
   ],
   "source": [
    "#!/bin/python\n",
    "\n",
    "\"\"\"\n",
    "This code will not pass if submitted on HackerRank.\n",
    "Several evaluation cases timeout.\n",
    "\"\"\"\n",
    "\n",
    "\n",
    "import sys\n",
    "\n",
    "\n",
    "t = int(raw_input().strip())\n",
    "for a0 in xrange(t):\n",
    "    n,k = raw_input().strip().split(' ')\n",
    "    n,k = [int(n),int(k)]\n",
    "    max_and = 0\n",
    "    for a in range(1, n):\n",
    "        if max_and == (k-1):\n",
    "                    break\n",
    "        b = a+1\n",
    "        while ((b <= n) & (max_and < k)):\n",
    "            if ((a&b > max_and) & (a&b < k)):\n",
    "                max_and = a&b\n",
    "                if max_and == (k-1):\n",
    "                    break\n",
    "            b += 1\n",
    "    print max_and"
   ]
  },
  {
   "cell_type": "markdown",
   "metadata": {},
   "source": [
    "The code in the *Solution* section still iterates over <span style=\"font-family:serif;\">*A*</span> and <span style=\"font-family:serif;\">*B*</span> and uses similar checks to the unsuccessful submission. It improves execution time by recognizing that the maximum value of <span style=\"font-family:serif;\">*A*&*B*</span> will occur for <span style=\"font-family:serif;\">*A*</span> and <span style=\"font-family:serif;\">*B*</span> that are close to *K*</span>. By iterating over <span style=\"font-family:serif;\">*A*</span> and <span style=\"font-family:serif;\">*B*</span> in reverse order the maximum is found quicker."
   ]
  },
  {
   "cell_type": "markdown",
   "metadata": {},
   "source": [
    "[Jekus](https://www.hackerrank.com/Jekus \"Jekus\") posted a [better approach](https://www.hackerrank.com/challenges/30-bitwise-and/forum/comments/157544 \"Jekus post\") in the HackerRank challenge discussion forum. Rather than searching for a soluition it recognizes that when <span style=\"font-family:serif;\">*K*</span> is odd <span style=\"font-family:serif;\">*K*&</span>(<span style=\"font-family:serif;\">*K*</span>-1) will give the maximum possible value (<span style=\"font-family:serif;\">*K*</span>-1). For even <span style=\"font-family:serif;\">*K*</span>, if (<span style=\"font-family:serif;\">*K*</span>-1) isn't a maximum value of <span style=\"font-family:serif;\">*A*&*B*</span> then (<span style=\"font-family:serif;\">*K*</span>-2) will be as it is the  maximum for the next lowest value (<span style=\"font-family:serif;\">*K*</span>-1), which must be odd. The bitwise inclusive OR expression <span style=\"font-family:serif;\">*K*|</span>(<span style=\"font-family:serif;\">*K*</span>-1) tests for this."
   ]
  },
  {
   "cell_type": "code",
   "execution_count": null,
   "metadata": {
    "collapsed": true
   },
   "outputs": [],
   "source": [
    "t = int(input().strip())\n",
    "for _ in range(t):\n",
    "    n , k = input().strip().split(' ')\n",
    "    n , k = int(n) , int(k)\n",
    "    print(k-1 if ((k-1) | k) <= n else k-2)"
   ]
  }
 ],
 "metadata": {
  "anaconda-cloud": {},
  "kernelspec": {
   "display_name": "Python [conda root]",
   "language": "python",
   "name": "conda-root-py"
  },
  "language_info": {
   "codemirror_mode": {
    "name": "ipython",
    "version": 2
   },
   "file_extension": ".py",
   "mimetype": "text/x-python",
   "name": "python",
   "nbconvert_exporter": "python",
   "pygments_lexer": "ipython2",
   "version": "2.7.12"
  }
 },
 "nbformat": 4,
 "nbformat_minor": 1
}
