{
 "cells": [
  {
   "cell_type": "markdown",
   "metadata": {},
   "source": [
    "![hackerank_logo](https://hrcdn.net/hackerrank/assets/brand/h_mark_sm-05bceb881aa02b72d688d21db01df5d8.png)"
   ]
  },
  {
   "cell_type": "markdown",
   "metadata": {},
   "source": [
    "#### HackerRank 30 Days of Code\n",
    "# Day 28: RegEx, Patterns, and Intro to Databases"
   ]
  },
  {
   "cell_type": "markdown",
   "metadata": {},
   "source": [
    "### Objective \n",
    "In this [challenge](https://www.hackerrank.com/challenges/30-regex-patterns \"Day 28: RegEx, Patterns, and Intro to Databases\") we're working with regular expressions. Check out the [Tutorial](https://www.hackerrank.com/challenges/30-regex-patterns/tutorial \"Day 28: RegEx, Patterns, and Intro to Databases tutorial\") for learning materials and an instructional video!"
   ]
  },
  {
   "cell_type": "markdown",
   "metadata": {},
   "source": [
    "### Task \n",
    "Consider a database table <span style=\"font-family:serif;\">*Emails*</span> which has the attributes <span style=\"font-family:serif;\">*First Name*</span> and <span style=\"font-family:serif;\">*Email ID*</span>. Given  rows of data simulating the <span style=\"font-family:serif;\">*Emails*</span> table, print an alphabetically-ordered list of people whose email address ends in <span style=\"font-family:serif;\">*@gmail.com*</span>"
   ]
  },
  {
   "cell_type": "markdown",
   "metadata": {
    "collapsed": true
   },
   "source": [
    "### Input Format\n",
    "The first line contains an integer <span style=\"font-family:serif;\">*N*</span> total number of rows in the table. \n",
    "Each of the <span style=\"font-family:serif;\">*N*</span> subsequent lines contains 2 space-separated strings denoting a person's <span style=\"font-family:serif;\">*First Name*</span> and <span style=\"font-family:serif;\">*Email ID*</span>, respectively."
   ]
  },
  {
   "cell_type": "markdown",
   "metadata": {},
   "source": [
    "### Constraints\n",
    "<ul>\n",
    "<li>2 &le; <span style=\"font-family:serif;\">*N*</span> &le; 30</li> \n",
    "<li>Each <span style=\"font-family:serif;\">*First Name*</span> consists of lower case letters [<span style=\"font-family:serif;\">*a*</span>-<span style=\"font-family:serif;\">*z*</span>] only.</li>\n",
    "<li>Each <span style=\"font-family:serif;\">*Email ID*</span> consists of lower case letters [<span style=\"font-family:serif;\">*a*</span>-<span style=\"font-family:serif;\">*z*</span>], <span style=\"font-family:serif;\">*@*</span> and <span style=\"font-family:serif;\">*.*</span> only.</li>\n",
    "<li>The length of each <span style=\"font-family:serif;\">*First Name*</span> is no longer than 20.</li>\n",
    "<li>The length of each <span style=\"font-family:serif;\">*Email ID*</span> is no longer than 50.</li>\n",
    "</ul>"
   ]
  },
  {
   "cell_type": "markdown",
   "metadata": {},
   "source": [
    "### Output Format\n",
    "Print an alphabetically-ordered list of first names for every user with a gmail account. Each name must be printed on a new line."
   ]
  },
  {
   "cell_type": "markdown",
   "metadata": {},
   "source": [
    "### Sample Input\n",
    "`6\n",
    "riya riya@gmail.com\n",
    "julia julia@julia.me\n",
    "julia sjulia@gmail.com\n",
    "julia julia@gmail.com\n",
    "samantha samantha@gmail.com\n",
    "tanya tanya@gmail.com`"
   ]
  },
  {
   "cell_type": "markdown",
   "metadata": {},
   "source": [
    "### Sample Output\n",
    "`julia\n",
    "julia\n",
    "riya\n",
    "samantha\n",
    "tanya`"
   ]
  },
  {
   "cell_type": "markdown",
   "metadata": {
    "collapsed": true
   },
   "source": [
    "### Solution"
   ]
  },
  {
   "cell_type": "code",
   "execution_count": null,
   "metadata": {
    "collapsed": false
   },
   "outputs": [],
   "source": [
    "#!/bin/python\n",
    "\n",
    "import sys\n",
    "import re\n",
    "\n",
    "gmails = []\n",
    "gmail_regex = re.compile(\"@gmail\\\\.com$\")\n",
    "\n",
    "N = int(raw_input().strip())\n",
    "for a0 in xrange(N):\n",
    "    firstName,emailID = raw_input().strip().split(' ')\n",
    "    firstName,emailID = [str(firstName),str(emailID)]\n",
    "    if gmail_regex.search(emailID) != None:\n",
    "        gmails.append(firstName)\n",
    "for gmail in sorted(gmails):\n",
    "    print(gmail)"
   ]
  }
 ],
 "metadata": {
  "anaconda-cloud": {},
  "kernelspec": {
   "display_name": "Python [conda root]",
   "language": "python",
   "name": "conda-root-py"
  },
  "language_info": {
   "codemirror_mode": {
    "name": "ipython",
    "version": 2
   },
   "file_extension": ".py",
   "mimetype": "text/x-python",
   "name": "python",
   "nbconvert_exporter": "python",
   "pygments_lexer": "ipython2",
   "version": "2.7.12"
  }
 },
 "nbformat": 4,
 "nbformat_minor": 1
}
