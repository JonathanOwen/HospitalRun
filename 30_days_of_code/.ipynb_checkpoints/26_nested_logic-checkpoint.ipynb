{
 "cells": [
  {
   "cell_type": "markdown",
   "metadata": {},
   "source": [
    "![hackerank_logo](https://hrcdn.net/hackerrank/assets/brand/h_mark_sm-05bceb881aa02b72d688d21db01df5d8.png)"
   ]
  },
  {
   "cell_type": "markdown",
   "metadata": {},
   "source": [
    "#### HackerRank 30 Days of Code\n",
    "# Day 26: Nested Logic"
   ]
  },
  {
   "cell_type": "markdown",
   "metadata": {},
   "source": [
    "### Objective \n",
    "This [challenge](https://www.hackerrank.com/challenges/30-nested-logic \"Day 26: Nested Logic\") puts your understanding of nested conditional statements to the test. You already have the knowledge to complete this challenge, but check out the [Tutorial](https://www.hackerrank.com/challenges/30-nested-logic/tutorial \"\"Day 26: Nested Logic tutorial\") for a video on testing!"
   ]
  },
  {
   "cell_type": "markdown",
   "metadata": {},
   "source": [
    "### Task \n",
    "Your local library needs your help! Given the expected and actual return dates for a library book, create a program that calculates the fine (if any). The fee structure is as follows:\n",
    "\n",
    "1.   If the book is returned on or before the expected return date, no fine will be charged  \n",
    "     *fine = 0*.  \n",
    "1.   If the book is returned after the expected return day but still within the same calendar month and year as the expected return date,  \n",
    "     *fine = 15 x number of days late*.  \n",
    "3.   If the book is returned after the expected return month but still within the same calendar year as the expected return date,  \n",
    "     *fine = 15 x number of days late*.  \n",
    "4.   If the book is returned after the calendar year in which it was expected, there is a fixed fine.  \n",
    "     *fine = 10,000*"
   ]
  },
  {
   "cell_type": "code",
   "execution_count": null,
   "metadata": {
    "collapsed": true
   },
   "outputs": [],
   "source": []
  }
 ],
 "metadata": {
  "anaconda-cloud": {},
  "kernelspec": {
   "display_name": "Python [conda root]",
   "language": "python",
   "name": "conda-root-py"
  },
  "language_info": {
   "codemirror_mode": {
    "name": "ipython",
    "version": 2
   },
   "file_extension": ".py",
   "mimetype": "text/x-python",
   "name": "python",
   "nbconvert_exporter": "python",
   "pygments_lexer": "ipython2",
   "version": "2.7.12"
  }
 },
 "nbformat": 4,
 "nbformat_minor": 1
}
