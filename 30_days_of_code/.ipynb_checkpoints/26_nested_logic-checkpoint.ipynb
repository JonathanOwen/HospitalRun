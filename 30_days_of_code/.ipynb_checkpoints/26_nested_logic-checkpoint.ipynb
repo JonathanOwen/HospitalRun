{
 "cells": [
  {
   "cell_type": "markdown",
   "metadata": {},
   "source": [
    "![hackerank_logo](https://hrcdn.net/hackerrank/assets/brand/h_mark_sm-05bceb881aa02b72d688d21db01df5d8.png)"
   ]
  },
  {
   "cell_type": "markdown",
   "metadata": {},
   "source": [
    "#### HackerRank 30 Days of Code\n",
    "# Day 26: Nested Logic"
   ]
  },
  {
   "cell_type": "markdown",
   "metadata": {},
   "source": [
    "### Objective \n",
    "This [challenge](https://www.hackerrank.com/challenges/30-nested-logic \"Day 26: Nested Logic\") puts your understanding of nested conditional statements to the test. You already have the knowledge to complete this challenge, but check out the [Tutorial](https://www.hackerrank.com/challenges/30-nested-logic/tutorial \"Day 26: Nested Logic tutorial\") for a video on testing!"
   ]
  },
  {
   "cell_type": "markdown",
   "metadata": {},
   "source": [
    "### Task \n",
    "Your local library needs your help! Given the expected and actual return dates for a library book, create a program that calculates the fine (if any). The fee structure is as follows:\n",
    "\n",
    "1.   If the book is returned on or before the expected return date, no fine will be charged  \n",
    "     *fine* = 0.  \n",
    "1.   If the book is returned after the expected return day but still within the same calendar month and year as the expected return date,  \n",
    "     *fine* = 15 x *number of days late*.  \n",
    "3.   If the book is returned after the expected return month but still within the same calendar year as the expected return date,  \n",
    "     *fine* = 500 x *number of days late*.  \n",
    "4.   If the book is returned after the calendar year in which it was expected, there is a fixed fine.  \n",
    "     *fine* = 10,000"
   ]
  },
  {
   "cell_type": "markdown",
   "metadata": {
    "collapsed": true
   },
   "source": [
    "### Input Format\n",
    "The first line contains space-separated integers denoting the respective *day*, *month*, and *year* on which the book was actually returned.   \n",
    "The second line contains space-separated integers denoting the respective *day*, *month*, and *year* on which the book was expected to be returned (due date)."
   ]
  },
  {
   "cell_type": "markdown",
   "metadata": {},
   "source": [
    "### Constraints\n",
    "1 &le; *day* &le; 31  \n",
    "1 &le; *month* &le; 12  \n",
    "1 &le; *year* &le; 3000  \n",
    "all dates will be valid calendar dates"
   ]
  },
  {
   "cell_type": "markdown",
   "metadata": {},
   "source": [
    "### Output Format\n",
    "Print a single integer denoting the library fine for the book received as input."
   ]
  },
  {
   "cell_type": "markdown",
   "metadata": {},
   "source": [
    "### Sample Input\n",
    "`9 6 2015  \n",
    "6 6 2015`"
   ]
  },
  {
   "cell_type": "markdown",
   "metadata": {},
   "source": [
    "### Sample Output\n",
    "`45`"
   ]
  },
  {
   "cell_type": "markdown",
   "metadata": {},
   "source": [
    "### Explanation\n",
    "Given the following return dates:  \n",
    "*day*<sub>actual</sub> = 9, *month*<sub>actual</sub> = 6, *year*<sub>actual</sub> = 2015  \n",
    "*day*<sub>due</sub> = 6, *month*<sub>due</sub> = 6, *year*<sub>due</sub> = 2015  \n",
    "\n",
    "As *year*<sub>actual</sub> = *year*<sub>due</sub> = 2015 it is less than a year late.   \n",
    "As *month*<sub>actual</sub> = *month*<sub>due</sub> = 6 it is less than a month late.  \n",
    "Because *day*<sub>actual</sub> > *day*<sub>due</sub> it was returned late (but still within the same month and year).\n",
    "\n",
    "Per the library's fee structure, the fine will be (9-6) *days* x 15 = 45"
   ]
  },
  {
   "cell_type": "markdown",
   "metadata": {
    "collapsed": true
   },
   "source": [
    "### Solution"
   ]
  },
  {
   "cell_type": "code",
   "execution_count": 56,
   "metadata": {
    "collapsed": false
   },
   "outputs": [
    {
     "name": "stdout",
     "output_type": "stream",
     "text": [
      "31 7 2016\n",
      "15 8 2016\n",
      "0\n"
     ]
    }
   ],
   "source": [
    "#!/bin/python\n",
    "\n",
    "import sys  \n",
    "\n",
    "date_keys = ('d', 'm', 'y')\n",
    "actual_date = dict(zip(date_keys, map(int,raw_input().strip().split(' '))))\n",
    "due_date = dict(zip(date_keys, map(int,raw_input().strip().split(' '))))\n",
    "date_difference = dict(zip(date_keys, [actual_date[k]-due_date[k] for k in date_keys]))\n",
    "\n",
    "if date_difference['y'] < 0:\n",
    "    fine = 0\n",
    "else:\n",
    "    if date_difference['y'] > 0:\n",
    "        fine = 10000\n",
    "    else:\n",
    "        if date_difference['m'] < 0:\n",
    "            fine = 0\n",
    "        else:\n",
    "            if date_difference['m'] > 0:\n",
    "                fine = 500*date_difference['m']\n",
    "            else:\n",
    "                if date_difference['d'] > 0:\n",
    "                    fine = 15*date_difference['d']\n",
    "                else:\n",
    "                    fine = 0\n",
    "print fine"
   ]
  }
 ],
 "metadata": {
  "anaconda-cloud": {},
  "kernelspec": {
   "display_name": "Python [conda root]",
   "language": "python",
   "name": "conda-root-py"
  },
  "language_info": {
   "codemirror_mode": {
    "name": "ipython",
    "version": 2
   },
   "file_extension": ".py",
   "mimetype": "text/x-python",
   "name": "python",
   "nbconvert_exporter": "python",
   "pygments_lexer": "ipython2",
   "version": "2.7.12"
  }
 },
 "nbformat": 4,
 "nbformat_minor": 1
}
