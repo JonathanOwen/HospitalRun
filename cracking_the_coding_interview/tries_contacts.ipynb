{
 "cells": [
  {
   "cell_type": "markdown",
   "metadata": {},
   "source": [
    "![hackerank_logo](https://hrcdn.net/hackerrank/assets/brand/h_mark_sm-05bceb881aa02b72d688d21db01df5d8.png)"
   ]
  },
  {
   "cell_type": "markdown",
   "metadata": {},
   "source": [
    "#### HackerRank Cracking the Coding Interview\n",
    "# Tries: Contacts"
   ]
  },
  {
   "cell_type": "markdown",
   "metadata": {},
   "source": [
    "difficulty: **hard**  "
   ]
  },
  {
   "cell_type": "markdown",
   "metadata": {},
   "source": [
    "### Problem\n",
    "For the purposes of this challenge, we define a binary search tree to be a *binary tree* with the following ordering properties:\n",
    "<ul>\n",
    "<li>The <span style=\"font-family:serif;font-size:18px;\">*data*</span> value of every node in a node's left subtree is less than the <span style=\"font-family:serif;font-size:18px;\">*data*</span> value of that node.</li> \n",
    "<li> The <span style=\"font-family:serif;font-size:18px;\">*data*</span> value of every node in a node's right subtree is greater than the <span style=\"font-family:serif;font-size:18px;\">*data*</span> value of that node.</li>\n",
    "</ul>  \n",
    "\n",
    "Given the root node of a binary tree, can you determine if it's also a binary search tree?  \n",
    "  \n",
    "Complete the function in your editor below, which has <span style=\"font-family:serif;font-size:18px;\">1</span> parameter: a pointer to the root of a binary tree. It must return a boolean denoting whether or not the binary tree is a binary search tree. You may have to write one or more helper functions to complete this challenge.\n",
    "\n",
    "**Note**: A binary tree is not a binary search if there are duplicate values."
   ]
  },
  {
   "cell_type": "markdown",
   "metadata": {
    "collapsed": true
   },
   "source": [
    "### Input Format\n",
    "You are not responsible for reading any input from stdin. Hidden code stubs will assemble a binary tree and pass its root node to your function as an argument."
   ]
  },
  {
   "cell_type": "markdown",
   "metadata": {},
   "source": [
    "### Constraints\n",
    "<span style=\"font-family:serif;font-size:18px;\"> \n",
    "1 &le; *data* &le; 10<sup>4</sup>  \n",
    "</span>"
   ]
  },
  {
   "cell_type": "markdown",
   "metadata": {},
   "source": [
    "### Output Format\n",
    "You are not responsible for printing any output to stdout. Your function must return true if the tree is a binary search tree; otherwise, it must return false. Hidden code stubs will print this result as a `Yes` or `No` answer on a new line."
   ]
  },
  {
   "cell_type": "markdown",
   "metadata": {},
   "source": [
    "### Sample Input\n",
    "![binary_tree_input](https://s3.amazonaws.com/hr-challenge-images/8131/1461698192-c9e0fcb28d-BTinput.png)"
   ]
  },
  {
   "cell_type": "markdown",
   "metadata": {},
   "source": [
    "### Sample Output\n",
    "`No`"
   ]
  },
  {
   "cell_type": "markdown",
   "metadata": {},
   "source": [
    "### Explanation\n",
    "The tree in the diagram does not satisfy the ordering property for a Binary Search Tree.  \n",
    "  \n",
    "For example, given that the tree's root is <span style=\"font-family:serif;font-size:18px;\">3</span>  \n",
    "<ul>\n",
    "<li>the left subtree should start with a node having <span style=\"font-family:serif;font-size:18px;\">*data* &lt; 3</span>, *i*.*e*., <span style=\"font-family:serif;font-size:18px;\">2</span></li>\n",
    "<li>the right subtree should start with a node having <span style=\"font-family:serif;font-size:18px;\">*data* &gt; 3</span>, *i*.*e*., <span style=\"font-family:serif;font-size:18px;\">5</span></li>\n",
    "</ul>  \n",
    "Since the positions of nodes <span style=\"font-family:serif;font-size:18px;\">2</span> and <span style=\"font-family:serif;font-size:18px;\">5</span> are reversed, the ordering is incorrect so we print `No`.  \n",
    "  \n",
    "**Note**: The above example depends on definition of a binary search tree given for the purposes of this challenge. If the definition had been reversed to put nodes with *higher* <span style=\"font-family:serif;font-size:18px;\">*data*</span> values in the *left* subtree and *lower* values in the *right*, then the ordering of the <span style=\"font-family:serif;font-size:18px;\">1</span> and <span style=\"font-family:serif;font-size:18px;\">4</span> nodes below the <span style=\"font-family:serif;font-size:18px;\">5</span> would not satisfy this reversed ordering property. The tree is not a Binary Search Tree because it does not consistently order nodes in the subtrees."
   ]
  },
  {
   "cell_type": "markdown",
   "metadata": {
    "collapsed": true
   },
   "source": [
    "### Solution"
   ]
  },
  {
   "cell_type": "code",
   "execution_count": null,
   "metadata": {
    "collapsed": false
   },
   "outputs": [],
   "source": [
    "#!/bin/python\n",
    "\n",
    "\"\"\" Node is defined as\n",
    "class node:\n",
    "    def __init__(self, data):\n",
    "        self.data = data\n",
    "        self.left = None\n",
    "        self.right = None\n",
    "\"\"\"\n",
    "def traverse_in_order(root, tree_list=[]):\n",
    "    if root.left != None:\n",
    "        traverse_in_order(root.left, tree_list)\n",
    "    tree_list.append(root.data)\n",
    "    if root.right != None:\n",
    "        traverse_in_order(root.right, tree_list)\n",
    "    return tree_list\n",
    "        \n",
    "def check_binary_search_tree_(root):\n",
    "    tree_list = traverse_in_order(root)\n",
    "    order_test = (tree_list==sorted(tree_list))\n",
    "    duplicate_test = (len(tree_list)==len(set(tree_list)))\n",
    "    return order_test & duplicate_test"
   ]
  },
  {
   "cell_type": "markdown",
   "metadata": {},
   "source": [
    "### Discussion\n",
    "Traversing tree was not difficult if the nodes were printed out. The [video tutorial](https://www.youtube.com/watch?v=oSWTXtMglKE \"video tutorial\") by Gayle Laakmann McDowell shows how pre-order, in-order, and post-order traversals are done in Java.  \n",
    "  \n",
    "Capturing the output of a traversal was more challenging. An empty `tree_list` can't be created in the first line of the function because it will be recreated as an empty with every recursion. Recursion makes checking if `tree_list` exist before appending `root.data` tricky as it also tends to create new lists with each recursion. One option was to pass the list as an argument to the function and create an empty list before calling `create_binary_search_tree_()`. Adding `tree_list` as an argument with a default empty set seems like a neater way.  \n",
    "  \n",
    "Reminder that `list.sort()` sorts a list in place and returns nothing. The logical comparison of the original list to this always evaluates as `False`.  Use `sorted()` to create a copy for comparison."
   ]
  },
  {
   "cell_type": "markdown",
   "metadata": {},
   "source": [
    "### Resources\n",
    "[Tries: Contacts](https://www.hackerrank.com/challenges/ctci-contacts \"ctci tries: contacts\") challenge   \n",
    "[video tutorial](https://www.youtube.com/watch?v=zIjfhVPRZCg \"video tutorial\") by Gayle Laakmann McDowell, author of the best-selling interview book *[Cracking the Coding Interview](https://www.hackerrank.com/ctci-book?ref=body \"Cracking the Coding Interview\")*"
   ]
  },
  {
   "cell_type": "code",
   "execution_count": null,
   "metadata": {
    "collapsed": true
   },
   "outputs": [],
   "source": []
  }
 ],
 "metadata": {
  "anaconda-cloud": {},
  "kernelspec": {
   "display_name": "Python [conda root]",
   "language": "python",
   "name": "conda-root-py"
  },
  "language_info": {
   "codemirror_mode": {
    "name": "ipython",
    "version": 2
   },
   "file_extension": ".py",
   "mimetype": "text/x-python",
   "name": "python",
   "nbconvert_exporter": "python",
   "pygments_lexer": "ipython2",
   "version": "2.7.12"
  }
 },
 "nbformat": 4,
 "nbformat_minor": 1
}
