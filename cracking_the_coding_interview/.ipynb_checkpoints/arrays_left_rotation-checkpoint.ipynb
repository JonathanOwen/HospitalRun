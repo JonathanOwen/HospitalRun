{
 "cells": [
  {
   "cell_type": "markdown",
   "metadata": {},
   "source": [
    "![hackerank_logo](https://hrcdn.net/hackerrank/assets/brand/h_mark_sm-05bceb881aa02b72d688d21db01df5d8.png)"
   ]
  },
  {
   "cell_type": "markdown",
   "metadata": {},
   "source": [
    "#### HackerRank Cracking the Coding Interview\n",
    "# Arrays: Left Rotation"
   ]
  },
  {
   "cell_type": "markdown",
   "metadata": {},
   "source": [
    "### Problem\n",
    "A *left rotation* operation on an array of size <span style=\"font-family:serif;font-size:18px;\">*n*</span> shifts each of the array's elements  <span style=\"font-family:serif;font-size:18px;\">1</span> unit to the left. For example, if <span style=\"font-family:serif;font-size:18px;\">2</span> left rotations are performed on an array <span style=\"font-family:serif;font-size:18px;\">[1, 2, 3, 4, 5]</span>, then the array would become <span style=\"font-family:serif;font-size:18px;\">[3, 4, 5, 1, 2]</span>.  \n",
    "  \n",
    "Given an array of <span style=\"font-family:serif;font-size:18px;\">*n*</span> integers and a number <span style=\"font-family:serif;font-size:18px;\">*d*</span>, perform <span style=\"font-family:serif;font-size:18px;\">*d*</span> left rotations on the array. Then print the updated array as a single line of space-separated integers."
   ]
  },
  {
   "cell_type": "markdown",
   "metadata": {
    "collapsed": true
   },
   "source": [
    "### Input Format\n",
    "The first line contains two space-separated integers denoting the respective values of the number of integers <span style=\"font-family:serif;font-size:18px;\">*n*</span> and the number of left rotations <span style=\"font-family:serif;font-size:18px;\">*d*</span> you must perform. \n",
    "The second line contains <span style=\"font-family:serif;font-size:18px;\">*n*</span> space-separated integers describing the respective elements of the array's initial state."
   ]
  },
  {
   "cell_type": "markdown",
   "metadata": {},
   "source": [
    "### Constraints\n",
    "<span style=\"font-family:serif;font-size:18px;\"> \n",
    "1 &le; *n* &le; 10<sup>5</sup>  \n",
    "1 &le; *d* &le; *n*  \n",
    "1 &le; *a<sub>i</sub>* &le; 10<sup>6</sup>  \n",
    "</span>"
   ]
  },
  {
   "cell_type": "markdown",
   "metadata": {},
   "source": [
    "### Output Format\n",
    "Print a single line of <span style=\"font-family:serif;font-size:18px;\">*n*</span> space-separated integers denoting the final state of the array after performing <span style=\"font-family:serif;font-size:18px;\">*d*</span> left rotations."
   ]
  },
  {
   "cell_type": "markdown",
   "metadata": {},
   "source": [
    "### Sample Input\n",
    "`5 4  \n",
    "1 2 3 4 5`"
   ]
  },
  {
   "cell_type": "markdown",
   "metadata": {},
   "source": [
    "### Sample Output\n",
    "`5 1 2 3 4`"
   ]
  },
  {
   "cell_type": "markdown",
   "metadata": {},
   "source": [
    "### Explanation\n",
    "When we perform <span style=\"font-family:serif;font-size:18px;\">*d* = 4</span> left rotations, the array undergoes the following sequence of changes:  \n",
    "  \n",
    "\n",
    "<span style=\"font-family:serif;font-size:18px;\">[1, 2, 3, 4, 5] &rarr; [2, 3, 4, 5, 1] &rarr; [3, 4, 5, 1, 2] &rarr; [4, 5, 1, 2, 3] &rarr; [5, 1, 2, 3, 4]</span>  \n",
    "  \n",
    "Thus, we print the array's final state as a single line of space-separated values, which is `5 1 2 3 4`."
   ]
  },
  {
   "cell_type": "markdown",
   "metadata": {
    "collapsed": true
   },
   "source": [
    "### Solution"
   ]
  },
  {
   "cell_type": "code",
   "execution_count": 4,
   "metadata": {
    "collapsed": false
   },
   "outputs": [
    {
     "name": "stdout",
     "output_type": "stream",
     "text": [
      "5 4\n",
      "1 2 3 4 5\n",
      "5 1 2 3 4\n"
     ]
    }
   ],
   "source": [
    "#!/bin/python\n",
    "\n",
    "import sys  \n",
    "\n",
    "def array_left_rotation(a, n, k):\n",
    "    a += a[:k]\n",
    "    return a[k:]\n",
    "  \n",
    "\n",
    "n, k = map(int, raw_input().strip().split(' '))\n",
    "a = map(int, raw_input().strip().split(' '))\n",
    "answer = array_left_rotation(a, n, k);\n",
    "print ' '.join(map(str,answer))"
   ]
  },
  {
   "cell_type": "markdown",
   "metadata": {},
   "source": [
    "### Resources\n",
    "[Arrays: Left Rotation](https://www.hackerrank.com/challenges/ctci-array-left-rotation \"ctci arrays left rotation\") challenge  \n",
    "[arrays](https://www.hackerrank.com/topics/arrays \"arrays\")  \n",
    "[array lists](https://www.hackerrank.com/topics/arraylist \"array lists\")  \n",
    "[video tutorial](https://www.youtube.com/watch?v=NLAzwv4D5iI \"video tutorial\") by Gayle Laakmann McDowell, author of the best-selling interview book *[Cracking the Coding Interview](https://www.hackerrank.com/ctci-book?ref=body \"Cracking the Coding Interview\")*"
   ]
  }
 ],
 "metadata": {
  "anaconda-cloud": {},
  "kernelspec": {
   "display_name": "Python [conda root]",
   "language": "python",
   "name": "conda-root-py"
  },
  "language_info": {
   "codemirror_mode": {
    "name": "ipython",
    "version": 2
   },
   "file_extension": ".py",
   "mimetype": "text/x-python",
   "name": "python",
   "nbconvert_exporter": "python",
   "pygments_lexer": "ipython2",
   "version": "2.7.12"
  }
 },
 "nbformat": 4,
 "nbformat_minor": 1
}
