{
 "cells": [
  {
   "cell_type": "markdown",
   "metadata": {},
   "source": [
    "![hackerank_logo](https://hrcdn.net/hackerrank/assets/brand/h_mark_sm-05bceb881aa02b72d688d21db01df5d8.png)"
   ]
  },
  {
   "cell_type": "markdown",
   "metadata": {},
   "source": [
    "#### HackerRank Cracking the Coding Interview\n",
    "# Strings: Making Anagrams"
   ]
  },
  {
   "cell_type": "markdown",
   "metadata": {},
   "source": [
    "difficulty: **easy**"
   ]
  },
  {
   "cell_type": "markdown",
   "metadata": {},
   "source": [
    "### Problem\n",
    "Alice is taking a cryptography class and finding anagrams to be very useful. We consider two strings to be anagrams of each other if the first string's letters can be rearranged to form the second string. In other words, both strings must contain the same exact letters in the same exact frequency For example, `bacdc` and `dcbac` are anagrams, but `bacdc` and `dcbad` are not.\n",
    "\n",
    "Alice decides on an encryption scheme involving two large strings where encryption is dependent on the minimum number of character deletions required to make the two strings anagrams. Can you help her find this number?\n",
    "\n",
    "Given two strings <span style=\"font-family:serif;font-size:18px\">*a*</span> and <span style=\"font-family:serif;font-size:18px\">*b*</span> that may or may not be of the same length, determine the minimum number of character deletions required to make <span style=\"font-family:serif;font-size:18px\">*a*</span> and <span style=\"font-family:serif;font-size:18px\">*b*</span> anagrams. Any characters can be deleted from either of the strings."
   ]
  },
  {
   "cell_type": "markdown",
   "metadata": {
    "collapsed": true
   },
   "source": [
    "### Input Format\n",
    "The first line contains a single string <span style=\"font-family:serif;font-size:18px;\">*a*</span>.  \n",
    "The second line contains a single string <span style=\"font-family:serif;font-size:18px;\">*b*</span>."
   ]
  },
  {
   "cell_type": "markdown",
   "metadata": {},
   "source": [
    "### Constraints\n",
    "<span style=\"font-family:serif;font-size:18px;\"> \n",
    "1 &le; |*a*|, |*b*| &le; 10<sup>4</sup></span>  \n",
    "It is guarranteed that <span style=\"font-family:serif;font-size:18px;\">*a*</span> and <span style=\"font-family:serif;font-size:18px;\">*b*</span> consist of lowercase English letters, *i*.*e*., <span style=\"font-family:serif;font-size:18px;\">*a*</span>-<span style=\"font-family:serif;font-size:18px;\">*z*</span>.\n"
   ]
  },
  {
   "cell_type": "markdown",
   "metadata": {},
   "source": [
    "### Output Format\n",
    "Print a single line of <span style=\"font-family:serif;font-size:18px;\">*n*</span> space-separated integers denoting the final state of the array after performing <span style=\"font-family:serif;font-size:18px;\">*d*</span> left rotations."
   ]
  },
  {
   "cell_type": "markdown",
   "metadata": {},
   "source": [
    "### Sample Input\n",
    "`5 4  \n",
    "1 2 3 4 5`"
   ]
  },
  {
   "cell_type": "markdown",
   "metadata": {},
   "source": [
    "### Sample Output\n",
    "`5 1 2 3 4`"
   ]
  },
  {
   "cell_type": "markdown",
   "metadata": {},
   "source": [
    "### Explanation\n",
    "When we perform <span style=\"font-family:serif;font-size:18px;\">*d* = 4</span> left rotations, the array undergoes the following sequence of changes:  \n",
    "  \n",
    "\n",
    "<span style=\"font-family:serif;font-size:18px;\">[1, 2, 3, 4, 5] &rarr; [2, 3, 4, 5, 1] &rarr; [3, 4, 5, 1, 2] &rarr; [4, 5, 1, 2, 3] &rarr; [5, 1, 2, 3, 4]</span>  \n",
    "  \n",
    "Thus, we print the array's final state as a single line of space-separated values, which is `5 1 2 3 4`."
   ]
  },
  {
   "cell_type": "markdown",
   "metadata": {
    "collapsed": true
   },
   "source": [
    "### Solution"
   ]
  },
  {
   "cell_type": "code",
   "execution_count": 4,
   "metadata": {
    "collapsed": false
   },
   "outputs": [
    {
     "name": "stdout",
     "output_type": "stream",
     "text": [
      "5 4\n",
      "1 2 3 4 5\n",
      "5 1 2 3 4\n"
     ]
    }
   ],
   "source": [
    "#!/bin/python\n",
    "\n",
    "import sys  \n",
    "\n",
    "def array_left_rotation(a, n, k):\n",
    "    a += a[:k]\n",
    "    return a[k:]\n",
    "  \n",
    "\n",
    "n, k = map(int, raw_input().strip().split(' '))\n",
    "a = map(int, raw_input().strip().split(' '))\n",
    "answer = array_left_rotation(a, n, k);\n",
    "print ' '.join(map(str,answer))"
   ]
  },
  {
   "cell_type": "markdown",
   "metadata": {},
   "source": [
    "### Resources\n",
    "[Strings: Making Anagrams](https://www.hackerrank.com/challenges/ctci-making-anagrams \"ctci strings making anagrams\") challenge  \n",
    "[Strings: An Overview](https://www.hackerrank.com/topics/strings-overview \"strings overview\")  \n",
    "[video tutorial](https://www.youtube.com/watch?v=gbxodBVkElQ \"video tutorial\") by Gayle Laakmann McDowell, author of the best-selling interview book *[Cracking the Coding Interview](https://www.hackerrank.com/ctci-book?ref=body \"Cracking the Coding Interview\")*"
   ]
  }
 ],
 "metadata": {
  "anaconda-cloud": {},
  "kernelspec": {
   "display_name": "Python [conda root]",
   "language": "python",
   "name": "conda-root-py"
  },
  "language_info": {
   "codemirror_mode": {
    "name": "ipython",
    "version": 2
   },
   "file_extension": ".py",
   "mimetype": "text/x-python",
   "name": "python",
   "nbconvert_exporter": "python",
   "pygments_lexer": "ipython2",
   "version": "2.7.12"
  }
 },
 "nbformat": 4,
 "nbformat_minor": 1
}
